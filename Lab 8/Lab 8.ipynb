{
 "cells": [
  {
   "cell_type": "markdown",
   "metadata": {},
   "source": [
    "# Lab 8: Neural Network\n"
   ]
  },
  {
   "cell_type": "markdown",
   "metadata": {},
   "source": [
    "This lab material is largely self-contained. We assume that every student has already taken STAT7008 or knows some basic operations of Python. Noet that you may use Anaconda to run the .ipynb file. For the installation of Anaconda, please see https://conda.io/docs/user-guide/install/index.html."
   ]
  },
  {
   "cell_type": "markdown",
   "metadata": {},
   "source": [
    "### Purpose"
   ]
  },
  {
   "cell_type": "markdown",
   "metadata": {},
   "source": [
    "In Lab 7, you will learn how to:\n",
    "\n",
    "a. do neural netwrok (NN). \n",
    "\n",
    "b. do convolutional neural network (CNN). "
   ]
  },
  {
   "cell_type": "markdown",
   "metadata": {},
   "source": [
    "### Useful libraries for this Lab"
   ]
  },
  {
   "cell_type": "markdown",
   "metadata": {},
   "source": [
    "a. numpy, for data array. \n",
    "\n",
    "b. tensorflow, for modelling.\n",
    "\n",
    "c. matplotlib, for plotting.\n",
    "\n",
    "d. sklearn, for data and preprocessing.\n",
    "\n",
    "e. os, for the working directory. "
   ]
  },
  {
   "cell_type": "code",
   "execution_count": 1,
   "metadata": {},
   "outputs": [
    {
     "name": "stdout",
     "output_type": "stream",
     "text": [
      "/home/renjielu/PycharmProjects/DM8017/DM_Lab8\n"
     ]
    }
   ],
   "source": [
    "import matplotlib.pyplot as plt\n",
    "import numpy as np\n",
    "import os\n",
    "from sklearn.datasets import load_digits\n",
    "from sklearn.preprocessing import OneHotEncoder\n",
    "from sklearn.preprocessing import LabelEncoder\n",
    "import tensorflow as tf\n",
    "\n",
    "wd = os.getcwd() # Set your working directory. \n",
    "print wd"
   ]
  },
  {
   "cell_type": "markdown",
   "metadata": {},
   "source": [
    "In Lab 8, we consider to make use of MNIST. It is a data set for handwritten digits. This data consists of handwritten digit images and labels. The lable ranges from 0 to 9, meaning 10 classes. Usually, the training size of MNIST is 60,000 and the test size is 10,000. For simplicity, we take advantage of the MNIST set provided by SKlearn. Its total size is only 1,797 (see below). If one would like to try the whole data set, please see Yann Lecun's website: http://yann.lecun.com/exdb/mnist/.  \n",
    "\n",
    "SKlearn returns the \"original\" target. So, before we train the models, we transform the target to the onehot target. \n",
    "\n",
    "We plot the first three samples. The true labels of them are 0, 1 and 2, respectively.\n",
    "\n",
    "Note that in this lab, we suppose all students have installed the package tensorflow. "
   ]
  },
  {
   "cell_type": "code",
   "execution_count": 2,
   "metadata": {},
   "outputs": [
    {
     "name": "stdout",
     "output_type": "stream",
     "text": [
      "(1797, 64)\n",
      "(1797, 10)\n",
      "[[ 1.  0.  0.  0.  0.  0.  0.  0.  0.  0.]\n",
      " [ 0.  1.  0.  0.  0.  0.  0.  0.  0.  0.]\n",
      " [ 0.  0.  1.  0.  0.  0.  0.  0.  0.  0.]\n",
      " [ 0.  0.  0.  1.  0.  0.  0.  0.  0.  0.]\n",
      " [ 0.  0.  0.  0.  1.  0.  0.  0.  0.  0.]]\n"
     ]
    },
    {
     "data": {
      "image/png": "[encoded data removed]",
      "text/plain": [
       "<matplotlib.figure.Figure at 0x7fa6b9d62110>"
      ]
     },
     "metadata": {},
     "output_type": "display_data"
    }
   ],
   "source": [
    "part_MNIST = load_digits()\n",
    "\n",
    "X = part_MNIST.data / 255\n",
    "\n",
    "print X.shape\n",
    "\n",
    "onehot_encoder = OneHotEncoder(sparse=False)\n",
    "label_encoder = LabelEncoder()\n",
    "\n",
    "def onehot(data):\n",
    "    tmp_data_ = np.array(data)  # np.append(np.array(data), ['-1'])\n",
    "    integer_encoded = label_encoder.fit_transform(tmp_data_)\n",
    "    integer_encoded = integer_encoded.reshape(-1, 1)\n",
    "    onehot_encoded = onehot_encoder.fit_transform(integer_encoded)\n",
    "\n",
    "    return onehot_encoded\n",
    "\n",
    "y = onehot(part_MNIST.target)\n",
    "\n",
    "print y.shape\n",
    "print y[:5, :]\n",
    "\n",
    "fig = plt.figure(figsize=(20, 10))\n",
    "\n",
    "for i in range(1, 4):\n",
    "\n",
    "    ax = fig.add_subplot(1, 3, i)\n",
    "    img = np.reshape(X[i-1, :], (8, 8))\n",
    "    plt.imshow(img, cmap='Greys_r')\n",
    "\n",
    "plt.show()"
   ]
  },
  {
   "cell_type": "markdown",
   "metadata": {},
   "source": [
    "The first 1,500 data is considered to be the training data, the rest are the test data. We build a traditional neural network with two layers. Each layer has the same number of hidden units: 128. The logistic (sigmoid) function is set to be the  activation function. The output function is the softmax function, see https://en.wikipedia.org/wiki/Softmax_function for its definition. We train the model over 10 epochs. \n",
    "\n",
    "The following results show that the accuracy in test samples starts from 0.091, and ends at 0.747. "
   ]
  },
  {
   "cell_type": "code",
   "execution_count": 3,
   "metadata": {},
   "outputs": [
    {
     "name": "stdout",
     "output_type": "stream",
     "text": [
      "Epoch 0. Avg accuracy 0.0909090936184\n",
      "Epoch 1. Avg accuracy 0.309764295816\n",
      "Epoch 2. Avg accuracy 0.548821568489\n",
      "Epoch 3. Avg accuracy 0.619528591633\n",
      "Epoch 4. Avg accuracy 0.666666686535\n",
      "Epoch 5. Avg accuracy 0.740740716457\n",
      "Epoch 6. Avg accuracy 0.757575750351\n",
      "Epoch 7. Avg accuracy 0.757575750351\n",
      "Epoch 8. Avg accuracy 0.754208743572\n",
      "Epoch 9. Avg accuracy 0.754208743572\n"
     ]
    }
   ],
   "source": [
    "tr_X = tf.placeholder(tf.float32, [None, X.shape[1]], name='tr_X')\n",
    "tr_y = tf.placeholder(tf.float32, [None, y.shape[1]], name='tr_y')\n",
    "\n",
    "W1 = tf.Variable(tf.random_normal([X.shape[1], 128], stddev=0.01), name='W1')\n",
    "b1 = tf.Variable(tf.random_normal([128]), name='b1')\n",
    "\n",
    "W2 = tf.Variable(tf.random_normal([128, 10], stddev=0.01), name='W2')\n",
    "b2 = tf.Variable(tf.random_normal([10]), name='b2')\n",
    "\n",
    "def model_NN():\n",
    "\n",
    "    layer1 = tf.nn.sigmoid(tf.add(tf.matmul(tr_X, W1), b1))\n",
    "    layer2 = tf.nn.sigmoid(tf.add(tf.matmul(layer1, W2), b2))\n",
    "    \n",
    "    return layer2\n",
    "\n",
    "\n",
    "model_NN_ = model_NN()\n",
    "\n",
    "\n",
    "\n",
    "cost = tf.reduce_mean(tf.square(tf.nn.softmax(model_NN_)-tr_y))\n",
    "\n",
    "train_op = tf.train.AdamOptimizer().minimize(cost)\n",
    "\n",
    "correct_pred = tf.equal(tf.argmax(model_NN_, 1), tf.argmax(tr_y, 1))\n",
    "accuracy = tf.reduce_mean(tf.cast(correct_pred, tf.float32))\n",
    "\n",
    "with tf.Session() as sess:\n",
    "    \n",
    "    sess.run(tf.global_variables_initializer())\n",
    "\n",
    "    for j in range(0, 10):\n",
    "\n",
    "        for i in range(0, 1500):\n",
    "            \n",
    "            tmp_X = np.reshape(X[i, :], (1, -1))\n",
    "            tmp_y = np.reshape(y[i, :], (1, -1))\n",
    "\n",
    "            _, accuracy_val = sess.run([train_op, accuracy], feed_dict={tr_X: tmp_X, tr_y: tmp_y})\n",
    "                        \n",
    "        val_X = X[1500:, :]\n",
    "        val_y = y[1500:, :]\n",
    "        \n",
    "        accuracy_val = sess.run([accuracy], feed_dict={tr_X: val_X, tr_y: val_y})\n",
    "        \n",
    "        print('Epoch {}. Avg accuracy {}'.format(j, accuracy_val[0]))\n",
    "\n"
   ]
  },
  {
   "cell_type": "markdown",
   "metadata": {},
   "source": [
    "We build a CNN as follows. The whole model architecture is suggested by BinRoot (github). We only modify it slightly since the dimension of our input is much smaller than the case they studied. Two convoluntional layers and max pooling layers are considered. The fully connected layer (the last layer) has 1024 hidden units. The accuracy for each epoch on the test samples is printed. It seems that this model structure is too complicated to handle the given data. The total number of paramters is 340,106, but the total sample size is only 1,797."
   ]
  },
  {
   "cell_type": "code",
   "execution_count": 4,
   "metadata": {},
   "outputs": [
    {
     "name": "stdout",
     "output_type": "stream",
     "text": [
      "Epoch 0. Avg accuracy 0.101010099053\n",
      "Epoch 1. Avg accuracy 0.101010099053\n",
      "Epoch 2. Avg accuracy 0.101010099053\n",
      "Epoch 3. Avg accuracy 0.101010099053\n",
      "Epoch 4. Avg accuracy 0.101010099053\n",
      "Epoch 5. Avg accuracy 0.101010099053\n",
      "Epoch 6. Avg accuracy 0.101010099053\n",
      "Epoch 7. Avg accuracy 0.101010099053\n",
      "Epoch 8. Avg accuracy 0.101010099053\n",
      "Epoch 9. Avg accuracy 0.101010099053\n"
     ]
    }
   ],
   "source": [
    "# the whole model graph is suggested by BinRoot (github)  \n",
    "\n",
    "tr_X = tf.placeholder(tf.float32, [None, X.shape[1]])\n",
    "tr_y = tf.placeholder(tf.float32, [None, y.shape[1]])\n",
    "W1 = tf.Variable(tf.random_normal([4, 4, 1, 64]))\n",
    "b1 = tf.Variable(tf.random_normal([64]))\n",
    "W2 = tf.Variable(tf.random_normal([4, 4, 64, 64]))\n",
    "b2 = tf.Variable(tf.random_normal([64]))\n",
    "\n",
    "W3 = tf.Variable(tf.random_normal([2*2*64, 1024]))\n",
    "b3 = tf.Variable(tf.random_normal([1024]))\n",
    "\n",
    "W_out = tf.Variable(tf.random_normal([1024, y.shape[1]]))\n",
    "b_out = tf.Variable(tf.random_normal([y.shape[1]]))\n",
    "\n",
    "def conv_layer(x, W, b):\n",
    "    conv = tf.nn.conv2d(x, W, strides=[1, 1, 1, 1], padding='SAME')\n",
    "    conv_with_b = tf.nn.bias_add(conv, b)\n",
    "    conv_out = tf.nn.relu(conv_with_b)\n",
    "    return conv_out\n",
    "\n",
    "\n",
    "def maxpool_layer(conv, k=2):\n",
    "    return tf.nn.max_pool(conv, ksize=[1, k, k, 1], strides=[1, k, k, 1], padding='SAME')\n",
    "\n",
    "\n",
    "def model():\n",
    "\n",
    "    tr_X_reshaped = tf.reshape(tr_X, shape=[-1, 8, 8, 1])\n",
    "    \n",
    "    conv_out1 = conv_layer(tr_X_reshaped, W1, b1)\n",
    "    maxpool_out1 = maxpool_layer(conv_out1)\n",
    "    norm1 = tf.nn.lrn(maxpool_out1, 4, bias=1.0, alpha=0.001 / 9.0, beta=0.75)\n",
    "    conv_out2 = conv_layer(norm1, W2, b2)\n",
    "    norm2 = tf.nn.lrn(conv_out2, 4, bias=1.0, alpha=0.001 / 9.0, beta=0.75)\n",
    "    maxpool_out2 = maxpool_layer(norm2)\n",
    "\n",
    "    maxpool_reshaped = tf.reshape(maxpool_out2, [-1, W3.get_shape().as_list()[0]])\n",
    "    local = tf.add(tf.matmul(maxpool_reshaped, W3), b3)\n",
    "    local_out = tf.nn.relu(local)\n",
    "\n",
    "    out = tf.add(tf.matmul(local_out, W_out), b_out)\n",
    "    return out\n",
    "\n",
    "\n",
    "\n",
    "model_op = model()\n",
    "\n",
    "cost = tf.reduce_mean(tf.square(tf.nn.softmax(model_op)-tr_y))\n",
    "\n",
    "train_op = tf.train.AdamOptimizer(learning_rate=0.0001).minimize(cost)\n",
    "\n",
    "correct_pred = tf.equal(tf.argmax(model_op, 1), tf.argmax(tr_y, 1))\n",
    "accuracy = tf.reduce_mean(tf.cast(correct_pred, tf.float32))\n",
    "\n",
    "with tf.Session() as sess:\n",
    "\n",
    "    sess.run(tf.global_variables_initializer())\n",
    "    \n",
    "    for j in range(0, 10):\n",
    "        \n",
    "        \n",
    "        for i in range(0, 1500, 100):\n",
    "\n",
    "            \n",
    "            tmp_X = X[i:i+100, :]\n",
    "            tmp_y = y[i:i+100, :]\n",
    "\n",
    "            _, accuracy_val = sess.run([train_op, accuracy], feed_dict={tr_X: tmp_X, tr_y: tmp_y})\n",
    "            \n",
    "                        \n",
    "        val_X = X[1500:, :]\n",
    "        val_y = y[1500:, :]\n",
    "        \n",
    "        accuracy_val = sess.run([accuracy], feed_dict={tr_X: val_X, tr_y: val_y})\n",
    "        \n",
    "        print('Epoch {}. Avg accuracy {}'.format(j, accuracy_val[0]))"
   ]
  }
 ],
 "metadata": {
  "kernelspec": {
   "display_name": "Python 2",
   "language": "python",
   "name": "python2"
  },
  "language_info": {
   "codemirror_mode": {
    "name": "ipython",
    "version": 2
   },
   "file_extension": ".py",
   "mimetype": "text/x-python",
   "name": "python",
   "nbconvert_exporter": "python",
   "pygments_lexer": "ipython2",
   "version": "2.7.14"
  }
 },
 "nbformat": 4,
 "nbformat_minor": 2
}
