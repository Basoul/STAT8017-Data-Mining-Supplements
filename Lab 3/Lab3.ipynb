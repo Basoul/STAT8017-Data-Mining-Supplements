{
 "cells": [
  {
   "cell_type": "markdown",
   "metadata": {},
   "source": [
    "# Lab3: Data Preparation and Tree: Imputation, Variable Selection, PCA and Decision Tree\n"
   ]
  },
  {
   "cell_type": "markdown",
   "metadata": {},
   "source": [
    "This lab material is largely self-contained. We assume that every student has already taken STAT7008 or knows some basic operations of Python. Noet that you may use Anaconda to run this .ipynb file. For the installation of Anaconda, please see https://conda.io/docs/user-guide/install/index.html."
   ]
  },
  {
   "cell_type": "markdown",
   "metadata": {},
   "source": [
    "### Purpose"
   ]
  },
  {
   "cell_type": "markdown",
   "metadata": {},
   "source": [
    "In Lab 3, you will learn how to:\n",
    "\n",
    "a. do imputation. \n",
    "\n",
    "b. do variable selection by Least Angle Regression (LAR).\n",
    "\n",
    "c. do Principal Component Analysis (PCA).\n",
    "\n",
    "d. build a decision tree. "
   ]
  },
  {
   "cell_type": "markdown",
   "metadata": {},
   "source": [
    "### Useful libraries for this Lab"
   ]
  },
  {
   "cell_type": "markdown",
   "metadata": {},
   "source": [
    "a. pandas, for data frame.\n",
    "\n",
    "b. numpy, for data array. \n",
    "\n",
    "c. sklearn, for modelling.\n",
    "\n",
    "d. os, for the working directory. "
   ]
  },
  {
   "cell_type": "code",
   "execution_count": 1,
   "metadata": {},
   "outputs": [
    {
     "name": "stdout",
     "output_type": "stream",
     "text": [
      "/home/renjielu/PycharmProjects/DM8017/DM_Lab3\n"
     ]
    }
   ],
   "source": [
    "from sklearn import preprocessing\n",
    "from sklearn import linear_model\n",
    "from sklearn.decomposition import PCA\n",
    "from sklearn import tree\n",
    "\n",
    "import numpy as np\n",
    "import pandas as pd\n",
    "import matplotlib.pyplot as plt\n",
    "import graphviz\n",
    "import os\n",
    "\n",
    "wd = os.getcwd() # Set your working directory. \n",
    "print wd"
   ]
  },
  {
   "cell_type": "markdown",
   "metadata": {},
   "source": [
    "We load the data which is stored in an xlsx file called Pva97nk. You can download it from Moodle. Please make sure that the pacakge called xlrd (can extract data from Microsoft Excel spreadsheet files) has already been installed in your computer."
   ]
  },
  {
   "cell_type": "code",
   "execution_count": 2,
   "metadata": {},
   "outputs": [
    {
     "name": "stdout",
     "output_type": "stream",
     "text": [
      "   TargetB      ID  TargetD  GiftCnt36  GiftCntAll  GiftCntCard36  \\\n",
      "0        0   14974      NaN          2           4              1   \n",
      "1        0    6294      NaN          1           8              0   \n",
      "2        1   46110      4.0          6          41              3   \n",
      "3        1  185937     10.0          3          12              3   \n",
      "4        0   29637      NaN          1           1              1   \n",
      "\n",
      "   GiftCntCardAll  GiftAvgLast  GiftAvg36  GiftAvgAll     ...       \\\n",
      "0               3         17.0      13.50        9.25     ...        \n",
      "1               3         20.0      20.00       15.88     ...        \n",
      "2              20          6.0       5.17        3.73     ...        \n",
      "3               8         10.0       8.67        8.50     ...        \n",
      "4               1         20.0      20.00       20.00     ...        \n",
      "\n",
      "   PromCntCardAll  StatusCat96NK  StatusCatStarAll  DemCluster  DemAge  \\\n",
      "0              13              A                 0           0     NaN   \n",
      "1              24              A                 0          23    67.0   \n",
      "2              22              S                 1           0     NaN   \n",
      "3              16              E                 1           0     NaN   \n",
      "4               6              F                 0          35    53.0   \n",
      "\n",
      "   DemGender  DemHomeOwner  DemMedHomeValue  DemPctVeterans DemMedIncome  \n",
      "0          F             U                0               0            0  \n",
      "1          F             U           186800              85            0  \n",
      "2          M             U            87600              36        38750  \n",
      "3          M             U           139200              27        38942  \n",
      "4          M             U           168100              37        71509  \n",
      "\n",
      "[5 rows x 28 columns]\n"
     ]
    }
   ],
   "source": [
    "df = pd.read_excel(wd+'/Pva97nk.xlsx')\n",
    "\n",
    "print df.head()"
   ]
  },
  {
   "cell_type": "markdown",
   "metadata": {},
   "source": [
    "From a part of records above, we see that there exist missing values in some variables, like DemAge. Note that the missing values in the data frame are stored as NaN. We take DemAge for example to show imputation methods. Here, we simply use the mean to replace these missing values. "
   ]
  },
  {
   "cell_type": "code",
   "execution_count": 3,
   "metadata": {},
   "outputs": [
    {
     "name": "stdout",
     "output_type": "stream",
     "text": [
      "True\n",
      "So, missing values exist.\n",
      "False\n",
      "So, no missing value exists.\n"
     ]
    }
   ],
   "source": [
    "print df['DemAge'].isnull().values.any() \n",
    "print 'So, missing values exist.' # check the missing values. FALSE: no missing value.\n",
    "\n",
    "imputer = preprocessing.Imputer()\n",
    "transform_data = imputer.fit_transform(df['DemAge'].values.reshape((-1,1)))\n",
    "\n",
    "df['DemAge'] = pd.Series(transform_data.ravel())\n",
    "\n",
    "print df['DemAge'].isnull().values.any() \n",
    "print 'So, no missing value exists.' # check the missing values. FALSE: no missing value."
   ]
  },
  {
   "cell_type": "markdown",
   "metadata": {},
   "source": [
    "Next, we consider to use TargetD as the response, and set DemAge, DemMedIncome, and GiftAvgLast as predictors. We only consider the non-missing part of TargetD. We use the mean to replace the missing values in the predictors. Note that we do a log transform of TargetD to smooth it. See SAS materials for more details. "
   ]
  },
  {
   "cell_type": "code",
   "execution_count": 4,
   "metadata": {},
   "outputs": [
    {
     "name": "stdout",
     "output_type": "stream",
     "text": [
      "          y         x1       x2    x3\n",
      "0  1.386294  59.150845  38750.0   6.0\n",
      "1  2.302585  59.150845  38942.0  10.0\n",
      "2  2.397895  47.000000  92514.0  11.0\n",
      "3  3.688879  59.150845      0.0  35.0\n",
      "4  1.791759  59.150845      0.0   6.0\n"
     ]
    }
   ],
   "source": [
    "\n",
    "TargetD = df['TargetD'][df['TargetD'].isnull()==False].values\n",
    "DemAge = df['DemAge'][df['TargetD'].isnull()==False]\n",
    "DemMedIncome = df['DemMedIncome'][df['TargetD'].isnull()==False]\n",
    "GiftAvgLast = df['GiftAvgLast'][df['TargetD'].isnull()==False]\n",
    "\n",
    "DemAge = imputer.fit_transform(DemAge.values.reshape((-1,1)))\n",
    "DemMedIncome = imputer.fit_transform(DemMedIncome.values.reshape((-1,1)))\n",
    "GiftAvgLast = imputer.fit_transform(GiftAvgLast.values.reshape((-1,1)))\n",
    "\n",
    "df_case = pd.DataFrame(np.concatenate((np.log(TargetD.reshape((-1,1))), \n",
    "                                       DemAge, \n",
    "                                       DemMedIncome, \n",
    "                                       GiftAvgLast), axis = 1),\n",
    "                       columns=['y', 'x1', 'x2', 'x3'])\n",
    "\n",
    "print df_case.head()"
   ]
  },
  {
   "cell_type": "markdown",
   "metadata": {},
   "source": [
    "Here, we provide the code to implement LAR which finds the predictor most correlated with the response at each step. From the result below, we conclude that LAR will select DemAge and GiftAvgLast if only two predictors are required to be kept. "
   ]
  },
  {
   "cell_type": "code",
   "execution_count": 5,
   "metadata": {},
   "outputs": [
    {
     "name": "stdout",
     "output_type": "stream",
     "text": [
      "[2, 0]\n",
      "[-0.00081817  0.          0.02405108]\n"
     ]
    }
   ],
   "source": [
    "\n",
    "case_matrix = df_case.values\n",
    "\n",
    "reg = linear_model.Lars(n_nonzero_coefs=2)\n",
    "reg.fit(case_matrix[:,1:], case_matrix[:,0])\n",
    "\n",
    "print reg.active_ # show the active variables.\n",
    "print reg.coef_ # show the coefficients of active vairbales. \n"
   ]
  },
  {
   "cell_type": "markdown",
   "metadata": {},
   "source": [
    "After LAR, we go to do PCA over the last three columns in case_matrix. For more details about PCA, you may read the supplement in Moodle."
   ]
  },
  {
   "cell_type": "code",
   "execution_count": 6,
   "metadata": {},
   "outputs": [
    {
     "name": "stdout",
     "output_type": "stream",
     "text": [
      "[  9.99999553e-01   2.33656426e-07]\n"
     ]
    },
    {
     "data": {
      "image/png": "[encoded data removed]",
      "text/plain": [
       "<matplotlib.figure.Figure at 0x7f210ad54dd0>"
      ]
     },
     "metadata": {},
     "output_type": "display_data"
    }
   ],
   "source": [
    "\n",
    "pca = PCA(n_components=2)\n",
    "pca.fit(case_matrix[:,1:])\n",
    "\n",
    "pca_ = pca.fit_transform(case_matrix[:,1:])\n",
    "\n",
    "print pca.explained_variance_ratio_\n",
    "\n",
    "plt.plot(pca_[:,0],pca_[:,1],'.')\n",
    "\n",
    "plt.show()"
   ]
  },
  {
   "cell_type": "markdown",
   "metadata": {},
   "source": [
    "Lastly, we build a simple decision tree (not a regression tree). We cut the target variable into two categories. Note that if you want to visualize the tree built by Sklearn, please install Graphviz."
   ]
  },
  {
   "cell_type": "code",
   "execution_count": 7,
   "metadata": {
    "scrolled": false
   },
   "outputs": [
    {
     "name": "stdout",
     "output_type": "stream",
     "text": [
      "[ 0.  0.  1.]\n"
     ]
    },
    {
     "data": {
      "image/svg+xml": [
       "<?xml version=\"1.0\" encoding=\"UTF-8\" standalone=\"no\"?>\n",
       "<!DOCTYPE svg PUBLIC \"-//W3C//DTD SVG 1.1//EN\"\n",
       " \"http://www.w3.org/Graphics/SVG/1.1/DTD/svg11.dtd\">\n",
       "<!-- Generated by graphviz version 2.38.0 (20140413.2041)\n",
       " -->\n",
       "<!-- Title: Tree Pages: 1 -->\n",
       "<svg width=\"570pt\" height=\"314pt\"\n",
       " viewBox=\"0.00 0.00 570.00 314.00\" xmlns=\"http://www.w3.org/2000/svg\" xmlns:xlink=\"http://www.w3.org/1999/xlink\">\n",
       "<g id=\"graph0\" class=\"graph\" transform=\"scale(1 1) rotate(0) translate(4 310)\">\n",
       "<title>Tree</title>\n",
       "<polygon fill=\"white\" stroke=\"none\" points=\"-4,4 -4,-310 566,-310 566,4 -4,4\"/>\n",
       "<!-- 0 -->\n",
       "<g id=\"node1\" class=\"node\"><title>0</title>\n",
       "<path fill=\"#399de5\" fill-opacity=\"0.070588\" stroke=\"black\" d=\"M342.5,-306C342.5,-306 226.5,-306 226.5,-306 220.5,-306 214.5,-300 214.5,-294 214.5,-294 214.5,-235 214.5,-235 214.5,-229 220.5,-223 226.5,-223 226.5,-223 342.5,-223 342.5,-223 348.5,-223 354.5,-229 354.5,-235 354.5,-235 354.5,-294 354.5,-294 354.5,-300 348.5,-306 342.5,-306\"/>\n",
       "<text text-anchor=\"start\" x=\"228\" y=\"-290.8\" font-family=\"Helvetica,sans-Serif\" font-size=\"14.00\">GiftAvgLast ≤ 14.5</text>\n",
       "<text text-anchor=\"start\" x=\"249\" y=\"-275.8\" font-family=\"Helvetica,sans-Serif\" font-size=\"14.00\">gini = 0.499</text>\n",
       "<text text-anchor=\"start\" x=\"236\" y=\"-260.8\" font-family=\"Helvetica,sans-Serif\" font-size=\"14.00\">samples = 4843</text>\n",
       "<text text-anchor=\"start\" x=\"222.5\" y=\"-245.8\" font-family=\"Helvetica,sans-Serif\" font-size=\"14.00\">value = [2333, 2510]</text>\n",
       "<text text-anchor=\"start\" x=\"257\" y=\"-230.8\" font-family=\"Helvetica,sans-Serif\" font-size=\"14.00\">class = _</text>\n",
       "</g>\n",
       "<!-- 1 -->\n",
       "<g id=\"node2\" class=\"node\"><title>1</title>\n",
       "<path fill=\"#399de5\" fill-opacity=\"0.843137\" stroke=\"black\" d=\"M262.5,-187C262.5,-187 154.5,-187 154.5,-187 148.5,-187 142.5,-181 142.5,-175 142.5,-175 142.5,-116 142.5,-116 142.5,-110 148.5,-104 154.5,-104 154.5,-104 262.5,-104 262.5,-104 268.5,-104 274.5,-110 274.5,-116 274.5,-116 274.5,-175 274.5,-175 274.5,-181 268.5,-187 262.5,-187\"/>\n",
       "<text text-anchor=\"start\" x=\"155.5\" y=\"-171.8\" font-family=\"Helvetica,sans-Serif\" font-size=\"14.00\">GiftAvgLast ≤ 9.5</text>\n",
       "<text text-anchor=\"start\" x=\"173\" y=\"-156.8\" font-family=\"Helvetica,sans-Serif\" font-size=\"14.00\">gini = 0.235</text>\n",
       "<text text-anchor=\"start\" x=\"160\" y=\"-141.8\" font-family=\"Helvetica,sans-Serif\" font-size=\"14.00\">samples = 2403</text>\n",
       "<text text-anchor=\"start\" x=\"150.5\" y=\"-126.8\" font-family=\"Helvetica,sans-Serif\" font-size=\"14.00\">value = [327, 2076]</text>\n",
       "<text text-anchor=\"start\" x=\"181\" y=\"-111.8\" font-family=\"Helvetica,sans-Serif\" font-size=\"14.00\">class = _</text>\n",
       "</g>\n",
       "<!-- 0&#45;&gt;1 -->\n",
       "<g id=\"edge1\" class=\"edge\"><title>0&#45;&gt;1</title>\n",
       "<path fill=\"none\" stroke=\"black\" d=\"M258.132,-222.907C252.414,-214.105 246.307,-204.703 240.402,-195.612\"/>\n",
       "<polygon fill=\"black\" stroke=\"black\" points=\"243.204,-193.5 234.821,-187.021 237.333,-197.313 243.204,-193.5\"/>\n",
       "<text text-anchor=\"middle\" x=\"229.626\" y=\"-207.775\" font-family=\"Helvetica,sans-Serif\" font-size=\"14.00\">True</text>\n",
       "</g>\n",
       "<!-- 4 -->\n",
       "<g id=\"node5\" class=\"node\"><title>4</title>\n",
       "<path fill=\"#e58139\" fill-opacity=\"0.784314\" stroke=\"black\" d=\"M418,-187C418,-187 305,-187 305,-187 299,-187 293,-181 293,-175 293,-175 293,-116 293,-116 293,-110 299,-104 305,-104 305,-104 418,-104 418,-104 424,-104 430,-110 430,-116 430,-116 430,-175 430,-175 430,-181 424,-187 418,-187\"/>\n",
       "<text text-anchor=\"start\" x=\"301\" y=\"-171.8\" font-family=\"Helvetica,sans-Serif\" font-size=\"14.00\">GiftAvgLast ≤ 20.25</text>\n",
       "<text text-anchor=\"start\" x=\"326\" y=\"-156.8\" font-family=\"Helvetica,sans-Serif\" font-size=\"14.00\">gini = 0.292</text>\n",
       "<text text-anchor=\"start\" x=\"313\" y=\"-141.8\" font-family=\"Helvetica,sans-Serif\" font-size=\"14.00\">samples = 2440</text>\n",
       "<text text-anchor=\"start\" x=\"303.5\" y=\"-126.8\" font-family=\"Helvetica,sans-Serif\" font-size=\"14.00\">value = [2006, 434]</text>\n",
       "<text text-anchor=\"start\" x=\"334.5\" y=\"-111.8\" font-family=\"Helvetica,sans-Serif\" font-size=\"14.00\">class = c</text>\n",
       "</g>\n",
       "<!-- 0&#45;&gt;4 -->\n",
       "<g id=\"edge4\" class=\"edge\"><title>0&#45;&gt;4</title>\n",
       "<path fill=\"none\" stroke=\"black\" d=\"M311.215,-222.907C317.008,-214.105 323.195,-204.703 329.178,-195.612\"/>\n",
       "<polygon fill=\"black\" stroke=\"black\" points=\"332.259,-197.298 334.832,-187.021 326.411,-193.45 332.259,-197.298\"/>\n",
       "<text text-anchor=\"middle\" x=\"339.881\" y=\"-207.806\" font-family=\"Helvetica,sans-Serif\" font-size=\"14.00\">False</text>\n",
       "</g>\n",
       "<!-- 2 -->\n",
       "<g id=\"node3\" class=\"node\"><title>2</title>\n",
       "<path fill=\"#399de5\" fill-opacity=\"0.952941\" stroke=\"black\" d=\"M113,-68C113,-68 12,-68 12,-68 6,-68 7.10543e-15,-62 7.10543e-15,-56 7.10543e-15,-56 7.10543e-15,-12 7.10543e-15,-12 7.10543e-15,-6 6,-0 12,-0 12,-0 113,-0 113,-0 119,-0 125,-6 125,-12 125,-12 125,-56 125,-56 125,-62 119,-68 113,-68\"/>\n",
       "<text text-anchor=\"start\" x=\"27\" y=\"-52.8\" font-family=\"Helvetica,sans-Serif\" font-size=\"14.00\">gini = 0.084</text>\n",
       "<text text-anchor=\"start\" x=\"14\" y=\"-37.8\" font-family=\"Helvetica,sans-Serif\" font-size=\"14.00\">samples = 1087</text>\n",
       "<text text-anchor=\"start\" x=\"8\" y=\"-22.8\" font-family=\"Helvetica,sans-Serif\" font-size=\"14.00\">value = [48, 1039]</text>\n",
       "<text text-anchor=\"start\" x=\"35\" y=\"-7.8\" font-family=\"Helvetica,sans-Serif\" font-size=\"14.00\">class = _</text>\n",
       "</g>\n",
       "<!-- 1&#45;&gt;2 -->\n",
       "<g id=\"edge2\" class=\"edge\"><title>1&#45;&gt;2</title>\n",
       "<path fill=\"none\" stroke=\"black\" d=\"M154.135,-103.726C141.366,-94.1494 127.781,-83.9611 115.092,-74.4438\"/>\n",
       "<polygon fill=\"black\" stroke=\"black\" points=\"116.999,-71.4996 106.899,-68.2996 112.799,-77.0996 116.999,-71.4996\"/>\n",
       "</g>\n",
       "<!-- 3 -->\n",
       "<g id=\"node4\" class=\"node\"><title>3</title>\n",
       "<path fill=\"#399de5\" fill-opacity=\"0.729412\" stroke=\"black\" d=\"M263.5,-68C263.5,-68 155.5,-68 155.5,-68 149.5,-68 143.5,-62 143.5,-56 143.5,-56 143.5,-12 143.5,-12 143.5,-6 149.5,-0 155.5,-0 155.5,-0 263.5,-0 263.5,-0 269.5,-0 275.5,-6 275.5,-12 275.5,-12 275.5,-56 275.5,-56 275.5,-62 269.5,-68 263.5,-68\"/>\n",
       "<text text-anchor=\"start\" x=\"174\" y=\"-52.8\" font-family=\"Helvetica,sans-Serif\" font-size=\"14.00\">gini = 0.334</text>\n",
       "<text text-anchor=\"start\" x=\"161\" y=\"-37.8\" font-family=\"Helvetica,sans-Serif\" font-size=\"14.00\">samples = 1316</text>\n",
       "<text text-anchor=\"start\" x=\"151.5\" y=\"-22.8\" font-family=\"Helvetica,sans-Serif\" font-size=\"14.00\">value = [279, 1037]</text>\n",
       "<text text-anchor=\"start\" x=\"182\" y=\"-7.8\" font-family=\"Helvetica,sans-Serif\" font-size=\"14.00\">class = _</text>\n",
       "</g>\n",
       "<!-- 1&#45;&gt;3 -->\n",
       "<g id=\"edge3\" class=\"edge\"><title>1&#45;&gt;3</title>\n",
       "<path fill=\"none\" stroke=\"black\" d=\"M208.872,-103.726C208.947,-95.5175 209.026,-86.8595 209.102,-78.56\"/>\n",
       "<polygon fill=\"black\" stroke=\"black\" points=\"212.604,-78.3312 209.196,-68.2996 205.605,-78.2672 212.604,-78.3312\"/>\n",
       "</g>\n",
       "<!-- 5 -->\n",
       "<g id=\"node6\" class=\"node\"><title>5</title>\n",
       "<path fill=\"#e58139\" fill-opacity=\"0.721569\" stroke=\"black\" d=\"M414.5,-68C414.5,-68 306.5,-68 306.5,-68 300.5,-68 294.5,-62 294.5,-56 294.5,-56 294.5,-12 294.5,-12 294.5,-6 300.5,-0 306.5,-0 306.5,-0 414.5,-0 414.5,-0 420.5,-0 426.5,-6 426.5,-12 426.5,-12 426.5,-56 426.5,-56 426.5,-62 420.5,-68 414.5,-68\"/>\n",
       "<text text-anchor=\"start\" x=\"328.5\" y=\"-52.8\" font-family=\"Helvetica,sans-Serif\" font-size=\"14.00\">gini = 0.34</text>\n",
       "<text text-anchor=\"start\" x=\"312\" y=\"-37.8\" font-family=\"Helvetica,sans-Serif\" font-size=\"14.00\">samples = 1721</text>\n",
       "<text text-anchor=\"start\" x=\"302.5\" y=\"-22.8\" font-family=\"Helvetica,sans-Serif\" font-size=\"14.00\">value = [1348, 373]</text>\n",
       "<text text-anchor=\"start\" x=\"333.5\" y=\"-7.8\" font-family=\"Helvetica,sans-Serif\" font-size=\"14.00\">class = c</text>\n",
       "</g>\n",
       "<!-- 4&#45;&gt;5 -->\n",
       "<g id=\"edge5\" class=\"edge\"><title>4&#45;&gt;5</title>\n",
       "<path fill=\"none\" stroke=\"black\" d=\"M361.128,-103.726C361.053,-95.5175 360.974,-86.8595 360.898,-78.56\"/>\n",
       "<polygon fill=\"black\" stroke=\"black\" points=\"364.395,-78.2672 360.804,-68.2996 357.396,-78.3312 364.395,-78.2672\"/>\n",
       "</g>\n",
       "<!-- 6 -->\n",
       "<g id=\"node7\" class=\"node\"><title>6</title>\n",
       "<path fill=\"#e58139\" fill-opacity=\"0.905882\" stroke=\"black\" d=\"M550,-68C550,-68 457,-68 457,-68 451,-68 445,-62 445,-56 445,-56 445,-12 445,-12 445,-6 451,-0 457,-0 457,-0 550,-0 550,-0 556,-0 562,-6 562,-12 562,-12 562,-56 562,-56 562,-62 556,-68 550,-68\"/>\n",
       "<text text-anchor=\"start\" x=\"468\" y=\"-52.8\" font-family=\"Helvetica,sans-Serif\" font-size=\"14.00\">gini = 0.155</text>\n",
       "<text text-anchor=\"start\" x=\"458.5\" y=\"-37.8\" font-family=\"Helvetica,sans-Serif\" font-size=\"14.00\">samples = 719</text>\n",
       "<text text-anchor=\"start\" x=\"453\" y=\"-22.8\" font-family=\"Helvetica,sans-Serif\" font-size=\"14.00\">value = [658, 61]</text>\n",
       "<text text-anchor=\"start\" x=\"476.5\" y=\"-7.8\" font-family=\"Helvetica,sans-Serif\" font-size=\"14.00\">class = c</text>\n",
       "</g>\n",
       "<!-- 4&#45;&gt;6 -->\n",
       "<g id=\"edge6\" class=\"edge\"><title>4&#45;&gt;6</title>\n",
       "<path fill=\"none\" stroke=\"black\" d=\"M414.376,-103.726C426.795,-94.1494 440.007,-83.9611 452.349,-74.4438\"/>\n",
       "<polygon fill=\"black\" stroke=\"black\" points=\"454.535,-77.1778 460.317,-68.2996 450.261,-71.6345 454.535,-77.1778\"/>\n",
       "</g>\n",
       "</g>\n",
       "</svg>\n"
      ],
      "text/plain": [
       "<graphviz.files.Source at 0x7f210ad641d0>"
      ]
     },
     "execution_count": 7,
     "metadata": {},
     "output_type": "execute_result"
    }
   ],
   "source": [
    "\n",
    "df_case['c_y'] = pd.cut(df_case['y'],2,labels=[1,0])\n",
    "\n",
    "case_matrix = df_case.iloc[:,1:]\n",
    "\n",
    "\n",
    "clf = tree.DecisionTreeClassifier(max_depth=2)\n",
    "clf = clf.fit(case_matrix.iloc[:,:-1], case_matrix.iloc[:,-1])\n",
    "\n",
    "print clf.feature_importances_ # GiftAvgLast is the most important. \n",
    "\n",
    "\n",
    "dot_data = tree.export_graphviz(clf, out_file=None, \n",
    "                         feature_names=['DemAge','DemMedIncome','GiftAvgLast'],  \n",
    "                         class_names='c_log_TargetD',  \n",
    "                         filled=True, rounded=True,  \n",
    "                         special_characters=True)  \n",
    "\n",
    "graph = graphviz.Source(dot_data)  \n",
    "\n",
    "graph\n"
   ]
  }
 ],
 "metadata": {
  "kernelspec": {
   "display_name": "Python 2",
   "language": "python",
   "name": "python2"
  },
  "language_info": {
   "codemirror_mode": {
    "name": "ipython",
    "version": 2
   },
   "file_extension": ".py",
   "mimetype": "text/x-python",
   "name": "python",
   "nbconvert_exporter": "python",
   "pygments_lexer": "ipython2",
   "version": "2.7.14"
  }
 },
 "nbformat": 4,
 "nbformat_minor": 2
}
