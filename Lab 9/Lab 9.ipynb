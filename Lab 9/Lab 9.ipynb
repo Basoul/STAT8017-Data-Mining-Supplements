{
 "cells": [
  {
   "cell_type": "markdown",
   "metadata": {},
   "source": [
    "# Lab 9: Association Rules\n"
   ]
  },
  {
   "cell_type": "markdown",
   "metadata": {},
   "source": [
    "This lab material is largely self-contained. We assume that every student has already taken STAT7008 or knows some basic operations of Python. Noet that you may use Anaconda to run the .ipynb file. For the installation of Anaconda, please see https://conda.io/docs/user-guide/install/index.html."
   ]
  },
  {
   "cell_type": "markdown",
   "metadata": {},
   "source": [
    "### Purpose"
   ]
  },
  {
   "cell_type": "markdown",
   "metadata": {},
   "source": [
    "In Lab 9, you will learn how to:\n",
    "\n",
    "a. do association rules."
   ]
  },
  {
   "cell_type": "markdown",
   "metadata": {},
   "source": [
    "### Useful libraries for this Lab"
   ]
  },
  {
   "cell_type": "markdown",
   "metadata": {},
   "source": [
    "a. numpy, for data array. \n",
    "\n",
    "b. mlxtend, for association rules.\n",
    "\n",
    "d. sklearn, for data and preprocessing.\n",
    "\n",
    "e. os, for the working directory. "
   ]
  },
  {
   "cell_type": "code",
   "execution_count": 1,
   "metadata": {},
   "outputs": [
    {
     "name": "stdout",
     "output_type": "stream",
     "text": [
      "/home/renjielu/PycharmProjects/DM8017/DM_Lab9\n"
     ]
    }
   ],
   "source": [
    "import numpy as np\n",
    "import os\n",
    "\n",
    "import pandas as pd\n",
    "from mlxtend.frequent_patterns import apriori\n",
    "from mlxtend.frequent_patterns import association_rules\n",
    "\n",
    "\n",
    "from sklearn.datasets import load_digits\n",
    "from sklearn.preprocessing import OneHotEncoder\n",
    "from sklearn.preprocessing import LabelEncoder\n",
    "\n",
    "wd = os.getcwd() # Set your working directory. \n",
    "print wd"
   ]
  },
  {
   "cell_type": "markdown",
   "metadata": {},
   "source": [
    "In Lab 9, we use the online retail data set, provided by the UC irvine machine learning repository which contains 426 data sets. Its website is https://archive.ics.uci.edu/ml/index.php. The first five records are listed below. \n",
    "\n",
    "In order to simplify the whole analysis in this lab, we remove the rows who have no invoice number, and the credit transactions whose invoice numbers contain C. \n",
    "\n",
    "Also, we remove the spaces in the elements of the descriptions in the data. "
   ]
  },
  {
   "cell_type": "code",
   "execution_count": 13,
   "metadata": {},
   "outputs": [
    {
     "name": "stdout",
     "output_type": "stream",
     "text": [
      "  InvoiceNo StockCode                          Description  Quantity  \\\n",
      "0    536365    85123A   WHITE HANGING HEART T-LIGHT HOLDER         6   \n",
      "1    536365     71053                  WHITE METAL LANTERN         6   \n",
      "2    536365    84406B       CREAM CUPID HEARTS COAT HANGER         8   \n",
      "3    536365    84029G  KNITTED UNION FLAG HOT WATER BOTTLE         6   \n",
      "4    536365    84029E       RED WOOLLY HOTTIE WHITE HEART.         6   \n",
      "\n",
      "          InvoiceDate  UnitPrice  CustomerID         Country  \n",
      "0 2010-12-01 08:26:00       2.55     17850.0  United Kingdom  \n",
      "1 2010-12-01 08:26:00       3.39     17850.0  United Kingdom  \n",
      "2 2010-12-01 08:26:00       2.75     17850.0  United Kingdom  \n",
      "3 2010-12-01 08:26:00       3.39     17850.0  United Kingdom  \n",
      "4 2010-12-01 08:26:00       3.39     17850.0  United Kingdom  \n",
      "541909\n",
      "\n",
      "\n",
      "Column names:  [u'InvoiceNo', u'StockCode', u'Description', u'Quantity', u'InvoiceDate', u'UnitPrice', u'CustomerID', u'Country']\n",
      "532621\n"
     ]
    }
   ],
   "source": [
    "df = pd.read_excel(wd+'/Online Retail.xlsx')\n",
    "print df.head()\n",
    "print len(df)\n",
    "print '\\n'\n",
    "\n",
    "print 'Column names: ', list(df)\n",
    "\n",
    "df['Description'] = df['Description'].str.strip() # remove the spaces.\n",
    "df.dropna(axis=0, subset=['InvoiceNo'], inplace=True) # remove the missing values.\n",
    "df['InvoiceNo'] = df['InvoiceNo'].astype('str') \n",
    "df = df[~df['InvoiceNo'].str.contains('C')]\n",
    "\n",
    "print len(df)"
   ]
  },
  {
   "cell_type": "markdown",
   "metadata": {},
   "source": [
    "For simplicity, we only focus on the sales of France in this lab. Before conducting association rules, we need to transform the data by using multi-hot encoder. Specifically, for each invoice,  we assign 1 or 0 (occurence/non-occurrence) to the correspodning items, without considering their purchase quantity. For example, suppose that we have total three goods in a store: item A, item B and item C, and there are two items (A and B) in the invoice. Then, the transformed data is [1,1,0].   \n",
    "\n",
    "Note that we remove the postage variable since it is activated for every good (recall that this is an online retail data set)."
   ]
  },
  {
   "cell_type": "code",
   "execution_count": 24,
   "metadata": {},
   "outputs": [
    {
     "name": "stdout",
     "output_type": "stream",
     "text": [
      "Description  10 COLOUR SPACEBOY PEN  12 COLOURED PARTY BALLOONS  \\\n",
      "InvoiceNo                                                         \n",
      "536370                          0.0                         0.0   \n",
      "536852                          0.0                         0.0   \n",
      "536974                          0.0                         0.0   \n",
      "537065                          0.0                         0.0   \n",
      "537463                          0.0                         0.0   \n",
      "\n",
      "Description  12 EGG HOUSE PAINTED WOOD  12 MESSAGE CARDS WITH ENVELOPES  \\\n",
      "InvoiceNo                                                                 \n",
      "536370                             0.0                              0.0   \n",
      "536852                             0.0                              0.0   \n",
      "536974                             0.0                              0.0   \n",
      "537065                             0.0                              0.0   \n",
      "537463                             0.0                              0.0   \n",
      "\n",
      "Description  12 PENCIL SMALL TUBE WOODLAND  \\\n",
      "InvoiceNo                                    \n",
      "536370                                 0.0   \n",
      "536852                                 0.0   \n",
      "536974                                 0.0   \n",
      "537065                                 0.0   \n",
      "537463                                 0.0   \n",
      "\n",
      "Description  12 PENCILS SMALL TUBE RED RETROSPOT  12 PENCILS SMALL TUBE SKULL  \\\n",
      "InvoiceNo                                                                       \n",
      "536370                                       0.0                          0.0   \n",
      "536852                                       0.0                          0.0   \n",
      "536974                                       0.0                          0.0   \n",
      "537065                                       0.0                          0.0   \n",
      "537463                                       0.0                          0.0   \n",
      "\n",
      "Description  12 PENCILS TALL TUBE POSY  12 PENCILS TALL TUBE RED RETROSPOT  \\\n",
      "InvoiceNo                                                                    \n",
      "536370                             0.0                                 0.0   \n",
      "536852                             0.0                                 0.0   \n",
      "536974                             0.0                                 0.0   \n",
      "537065                             0.0                                 0.0   \n",
      "537463                             0.0                                 0.0   \n",
      "\n",
      "Description  12 PENCILS TALL TUBE WOODLAND               ...                 \\\n",
      "InvoiceNo                                                ...                  \n",
      "536370                                 0.0               ...                  \n",
      "536852                                 0.0               ...                  \n",
      "536974                                 0.0               ...                  \n",
      "537065                                 0.0               ...                  \n",
      "537463                                 0.0               ...                  \n",
      "\n",
      "Description  WRAP VINTAGE PETALS  DESIGN  YELLOW COAT RACK PARIS FASHION  \\\n",
      "InvoiceNo                                                                  \n",
      "536370                               0.0                             0.0   \n",
      "536852                               0.0                             0.0   \n",
      "536974                               0.0                             0.0   \n",
      "537065                               0.0                             0.0   \n",
      "537463                               0.0                             0.0   \n",
      "\n",
      "Description  YELLOW GIANT GARDEN THERMOMETER  YELLOW SHARK HELICOPTER  \\\n",
      "InvoiceNo                                                               \n",
      "536370                                   0.0                      0.0   \n",
      "536852                                   0.0                      0.0   \n",
      "536974                                   0.0                      0.0   \n",
      "537065                                   0.0                      0.0   \n",
      "537463                                   0.0                      0.0   \n",
      "\n",
      "Description  ZINC  STAR T-LIGHT HOLDER  ZINC FOLKART SLEIGH BELLS  \\\n",
      "InvoiceNo                                                           \n",
      "536370                             0.0                        0.0   \n",
      "536852                             0.0                        0.0   \n",
      "536974                             0.0                        0.0   \n",
      "537065                             0.0                        0.0   \n",
      "537463                             0.0                        0.0   \n",
      "\n",
      "Description  ZINC HERB GARDEN CONTAINER  ZINC METAL HEART DECORATION  \\\n",
      "InvoiceNo                                                              \n",
      "536370                              0.0                          0.0   \n",
      "536852                              0.0                          0.0   \n",
      "536974                              0.0                          0.0   \n",
      "537065                              0.0                          0.0   \n",
      "537463                              0.0                          0.0   \n",
      "\n",
      "Description  ZINC T-LIGHT HOLDER STAR LARGE  ZINC T-LIGHT HOLDER STARS SMALL  \n",
      "InvoiceNo                                                                     \n",
      "536370                                  0.0                              0.0  \n",
      "536852                                  0.0                              0.0  \n",
      "536974                                  0.0                              0.0  \n",
      "537065                                  0.0                              0.0  \n",
      "537463                                  0.0                              0.0  \n",
      "\n",
      "[5 rows x 1563 columns]\n"
     ]
    }
   ],
   "source": [
    "Fbasket = (df[df['Country'] ==\"France\"].\n",
    "          groupby(['InvoiceNo', 'Description'])['Quantity'].\n",
    "          sum().unstack().reset_index().fillna(0)\n",
    "          .set_index('InvoiceNo'))\n",
    "\n",
    "def encode_units(x):\n",
    "    if x <= 0:\n",
    "        return 0\n",
    "    if x >= 1:\n",
    "        return 1\n",
    "\n",
    "Fbasket_sets = Fbasket.applymap(encode_units) # keep all values must be 1 or 0.\n",
    "Fbasket_sets.drop('POSTAGE', inplace=True, axis=1)\n",
    "\n",
    "print Fbasket.head()\n"
   ]
  },
  {
   "cell_type": "markdown",
   "metadata": {},
   "source": [
    "We set the minimum support in the Apriori algorithm as 0.07. Then, the rules are given as follows. \n",
    "\n",
    "In this lab, we show the rules whose lift and confidence are larger than 8 and 0.8, respectively.\n",
    "\n",
    "In the final rules, it seems that the green and red alarm clocks are purchased together."
   ]
  },
  {
   "cell_type": "code",
   "execution_count": 31,
   "metadata": {},
   "outputs": [
    {
     "name": "stdout",
     "output_type": "stream",
     "text": [
      "                                         antecedants  \\\n",
      "0                 (PLASTERS IN TIN WOODLAND ANIMALS)   \n",
      "1                         (PLASTERS IN TIN SPACEBOY)   \n",
      "2                      (SET/6 RED SPOTTY PAPER CUPS)   \n",
      "3               (SET/20 RED RETROSPOT PAPER NAPKINS)   \n",
      "4  (SET/6 RED SPOTTY PAPER PLATES, SET/6 RED SPOT...   \n",
      "\n",
      "                            consequents   support  confidence      lift  \n",
      "0            (PLASTERS IN TIN SPACEBOY)  0.170918    0.611940  4.442233  \n",
      "1    (PLASTERS IN TIN WOODLAND ANIMALS)  0.137755    0.759259  4.442233  \n",
      "2  (SET/20 RED RETROSPOT PAPER NAPKINS)  0.137755    0.740741  5.584046  \n",
      "3         (SET/6 RED SPOTTY PAPER CUPS)  0.132653    0.769231  5.584046  \n",
      "4  (SET/20 RED RETROSPOT PAPER NAPKINS)  0.122449    0.812500  6.125000  \n",
      "\n",
      "\n",
      "OUR FINAL RULES\n",
      "                     antecedants                   consequents   support  \\\n",
      "20    (ALARM CLOCK BAKELIKE RED)  (ALARM CLOCK BAKELIKE GREEN)  0.094388   \n",
      "21  (ALARM CLOCK BAKELIKE GREEN)    (ALARM CLOCK BAKELIKE RED)  0.096939   \n",
      "\n",
      "    confidence      lift  \n",
      "20    0.837838  8.642959  \n",
      "21    0.815789  8.642959  \n"
     ]
    }
   ],
   "source": [
    "frequent_itemsets = apriori(Fbasket_sets, min_support=0.07, use_colnames=True)\n",
    "\n",
    "rules = association_rules(frequent_itemsets, metric=\"lift\", min_threshold=1)\n",
    "print rules.head()\n",
    "\n",
    "final_rules = rules[ (rules['lift'] >= 8) & (rules['confidence'] >= 0.8) ]\n",
    "\n",
    "print '\\n'\n",
    "print 'OUR FINAL RULES'\n",
    "\n",
    "print final_rules"
   ]
  }
 ],
 "metadata": {
  "kernelspec": {
   "display_name": "Python 2",
   "language": "python",
   "name": "python2"
  },
  "language_info": {
   "codemirror_mode": {
    "name": "ipython",
    "version": 2
   },
   "file_extension": ".py",
   "mimetype": "text/x-python",
   "name": "python",
   "nbconvert_exporter": "python",
   "pygments_lexer": "ipython2",
   "version": "2.7.14"
  }
 },
 "nbformat": 4,
 "nbformat_minor": 2
}
