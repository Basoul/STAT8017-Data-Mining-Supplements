{
 "cells": [
  {
   "cell_type": "markdown",
   "metadata": {},
   "source": [
    "# Lab 4: Model Performance Evaluation\n"
   ]
  },
  {
   "cell_type": "markdown",
   "metadata": {},
   "source": [
    "This lab material is largely self-contained. We assume that every student has already taken STAT7008 or knows some basic operations of Python. Noet that you may use Anaconda to run the .ipynb file. For the installation of Anaconda, please see https://conda.io/docs/user-guide/install/index.html."
   ]
  },
  {
   "cell_type": "markdown",
   "metadata": {},
   "source": [
    "### Purpose"
   ]
  },
  {
   "cell_type": "markdown",
   "metadata": {},
   "source": [
    "In Lab 4, you will learn how to:\n",
    "\n",
    "a. generate binary category data. \n",
    "\n",
    "b. do logistic regression. \n",
    "\n",
    "c. plot Receiver Operating Characteristic (ROC) curve."
   ]
  },
  {
   "cell_type": "markdown",
   "metadata": {},
   "source": [
    "### Useful libraries for this Lab"
   ]
  },
  {
   "cell_type": "markdown",
   "metadata": {},
   "source": [
    "a. numpy, for data array. \n",
    "\n",
    "b. matplotlib, for plotting. \n",
    "\n",
    "c. sklearn, for modelling.\n",
    "\n",
    "d. os, for the working directory. "
   ]
  },
  {
   "cell_type": "code",
   "execution_count": 1,
   "metadata": {},
   "outputs": [
    {
     "name": "stdout",
     "output_type": "stream",
     "text": [
      "/home/renjielu/PycharmProjects/DM8017/DM_Lab4\n"
     ]
    }
   ],
   "source": [
    "from sklearn import linear_model\n",
    "import numpy as np\n",
    "import matplotlib.pyplot as plt\n",
    "import os\n",
    "\n",
    "wd = os.getcwd() # Set your working directory. \n",
    "print wd"
   ]
  },
  {
   "cell_type": "markdown",
   "metadata": {},
   "source": [
    "In Lab 4, we consider a binary classification problem. We generate data by \n",
    "\n",
    "$$y = \\left\\{ \\begin{array}{rcl} 1, & f(z), \\\\ \\\\ -1,  & 1-f(z),\\end{array}\\right.$$\n",
    "\n",
    "where $$f(z)= \\frac{1}{1+exp(-z)} $$  and $z= 2+8x_1+0.8x_2$ with $x_1$ and $x_2$ are independent standard normal variates. The sample size $n$ is equal to 712. "
   ]
  },
  {
   "cell_type": "code",
   "execution_count": 2,
   "metadata": {},
   "outputs": [],
   "source": [
    "mean_ = [0,0]\n",
    "cov_ = [[1,0],[0,1]]\n",
    "n = 712\n",
    "\n",
    "x1,x2 = np.random.multivariate_normal(mean_,cov_,n).T\n",
    "\n",
    "z = 2+8*x1+0.8*x2\n",
    "\n",
    "f_z = 1./(1+np.exp(-z))\n",
    "\n",
    "y = np.array([1 if np.random.rand()<=p else -1 for p in f_z ])"
   ]
  },
  {
   "cell_type": "markdown",
   "metadata": {},
   "source": [
    "Next, based on the data, we do linear and logistic regression, respectively. After we obtain the estimated models, we take advantage of ROC curve to do model comparision. Actually, the linear model cannot  classify the data directly. Therefore, a simple rule below is proposed for linear model to do classification.\n",
    "\n",
    "$$\\hat{y} = \\left\\{ \\begin{array}{rcl} 1, & \\mbox{if } \\hat{b}_{0}+\\hat{b}_1 x_1+\\hat{b}_2 x_2\\geq 0, \\\\ \\\\ -1,  & \\mbox{otherwise.}\\end{array}\\right.$$\n",
    "\n",
    "Note that in Sklearn, the function called LogisticRegression estimates the model with a regularization (L1 or L2). In order to estimate the original loss function only, we set the arugment C, inverse of regularization strength, in this function as a large value, say 1000. We give two confusion matrices for each fitted model. The results show that both classification methods are quit similar. "
   ]
  },
  {
   "cell_type": "code",
   "execution_count": 3,
   "metadata": {},
   "outputs": [
    {
     "name": "stdout",
     "output_type": "stream",
     "text": [
      "Coefficients of linear regression:  [ 0.77700811  0.08070102]\n",
      "Confusion matrix of linear model: \n",
      "[[392  20]\n",
      " [ 20 280]]\n",
      "Coefficients of logistic regression:  [ 8.29719436  1.02085007]\n",
      "Confusion matrix of logistic model: \n",
      "[[396  16]\n",
      " [ 19 281]]\n"
     ]
    }
   ],
   "source": [
    "def confusion_matrix(y, y_hat):\n",
    "    \n",
    "    TP = sum([1 if (y[i]==1) and (y_hat[i]==1) else 0 for i in range(len(y))])\n",
    "    TN = sum([1 if (y[i]==-1) and (y_hat[i]==-1) else 0 for i in range(len(y))])\n",
    "    FP = sum([1 if (y[i]==1) and (y_hat[i]==-1) else 0 for i in range(len(y))])\n",
    "    FN = sum([1 if (y[i]==-1) and (y_hat[i]==1) else 0 for i in range(len(y))])\n",
    "    \n",
    "    return np.array([[TP,FP],[FN,TN]])\n",
    "\n",
    "data = np.concatenate((y.reshape((n,1)), \n",
    "                       x1.reshape((n,1)), \n",
    "                       x2.reshape((n,1))),axis=1)\n",
    "\n",
    "\n",
    "# for linear regression, and classification. \n",
    "lr = linear_model.LinearRegression()\n",
    "lr.fit(data[:,1:], data[:,0])\n",
    "lr_predict = lr.predict(data[:,1:])\n",
    "print 'Coefficients of linear regression: ', lr.coef_\n",
    "# classification\n",
    "y_hat = np.array([1 if x>=0 else -1 for x in lr_predict])\n",
    "\n",
    "print 'Confusion matrix of linear model: '\n",
    "print confusion_matrix(y, y_hat)\n",
    "\n",
    "# for logistic regression.\n",
    "logr = linear_model.LogisticRegression(C=1000.0) \n",
    "logr.fit(data[:,1:], data[:,0])\n",
    "logr_predict = logr.predict(data[:,1:])\n",
    "logr_predict_proba = logr.predict_proba(data[:,1:])\n",
    "\n",
    "print 'Coefficients of logistic regression: ', logr.coef_[0]\n",
    "print 'Confusion matrix of logistic model: '\n",
    "print confusion_matrix(y, logr_predict)"
   ]
  },
  {
   "cell_type": "markdown",
   "metadata": {},
   "source": [
    "Noth that in the previous part, the cut-off points for logistic and linear regression are 0 and 0.5. Next, we plot ROC curve by using different cut-off points. In ROC curve, the green line refers to the benchmark. Orange and blue lines denote logistic and linear regression, respectively. According to ROC chart below, we conclude that in this case, logistic model is slightly better than linear model due to larger area of its ROC."
   ]
  },
  {
   "cell_type": "code",
   "execution_count": 4,
   "metadata": {},
   "outputs": [
    {
     "data": {
      "image/png": "[encoded data removed]",
      "text/plain": [
       "<matplotlib.figure.Figure at 0x7f4052a18d10>"
      ]
     },
     "metadata": {},
     "output_type": "display_data"
    }
   ],
   "source": [
    "number_points = 19\n",
    "\n",
    "cut_points_lr = np.linspace(min(lr_predict),max(lr_predict),number_points)\n",
    "cut_points_logr = np.linspace(min(logr_predict_proba[:,1]),max(logr_predict_proba[:,1]),number_points)\n",
    "\n",
    "P = sum([1 for x in y if x==1]) # compute the total number of 1\n",
    "N = sum([1 for x in y if x==-1]) # compute the total number of -1\n",
    "\n",
    "ROC_lr = []\n",
    "ROC_logr = []\n",
    "\n",
    "for i in range(number_points):\n",
    "    \n",
    "    y_hat_lr = np.array([1 if x>=cut_points_lr[i] else -1 for x in lr_predict])\n",
    "    \n",
    "    Tmp_CM = confusion_matrix(y, y_hat_lr)\n",
    "    TP = Tmp_CM[0][0]\n",
    "    TN = Tmp_CM[1][1]\n",
    "    ROC_lr.append([float(TP)/P, 1-float(TN)/N])\n",
    "    \n",
    "    y_hat_logr = np.array([1 if x>=cut_points_logr[i] else -1 for x in logr_predict_proba[:,1]])\n",
    "    \n",
    "    Tmp_CM = confusion_matrix(y, y_hat_logr)\n",
    "    TP = Tmp_CM[0][0]\n",
    "    TN = Tmp_CM[1][1]\n",
    "    ROC_logr.append([float(TP)/P, 1-float(TN)/N])\n",
    "    \n",
    "plt.plot(-np.sort(-np.array(ROC_lr)[:,1]),np.array(ROC_lr)[:,0])\n",
    "plt.plot(-np.sort(-np.array(ROC_logr)[:,1]),np.array(ROC_logr)[:,0])\n",
    "plt.plot([0,1],[0,1])\n",
    "\n",
    "plt.show()"
   ]
  }
 ],
 "metadata": {
  "kernelspec": {
   "display_name": "Python 2",
   "language": "python",
   "name": "python2"
  },
  "language_info": {
   "codemirror_mode": {
    "name": "ipython",
    "version": 2
   },
   "file_extension": ".py",
   "mimetype": "text/x-python",
   "name": "python",
   "nbconvert_exporter": "python",
   "pygments_lexer": "ipython2",
   "version": "2.7.14"
  }
 },
 "nbformat": 4,
 "nbformat_minor": 2
}
